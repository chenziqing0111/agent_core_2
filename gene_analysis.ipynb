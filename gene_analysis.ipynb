{
 "cells": [
  {
   "cell_type": "markdown",
   "metadata": {},
   "source": [
    "# 批量基因分析 - 简洁版"
   ]
  },
  {
   "cell_type": "code",
   "execution_count": 1,
   "metadata": {},
   "outputs": [
    {
     "name": "stderr",
     "output_type": "stream",
     "text": [
      "/public/home/chenziqing/miniconda3/envs/agent_env/lib/python3.10/site-packages/tqdm/auto.py:21: TqdmWarning: IProgress not found. Please update jupyter and ipywidgets. See https://ipywidgets.readthedocs.io/en/stable/user_install.html\n",
      "  from .autonotebook import tqdm as notebook_tqdm\n"
     ]
    }
   ],
   "source": [
    "import asyncio\n",
    "import sys\n",
    "from datetime import datetime\n",
    "\n",
    "# 添加项目路径\n",
    "sys.path.append('.')\n",
    "\n",
    "from agent_core.agents.specialists.literature_expert import LiteratureExpert\n",
    "from agent_core.agents.specialists.clinical_expert import ClinicalExpert\n",
    "from agent_core.agents.specialists.commercial_expert import CommercialExpert\n",
    "from agent_core.config.analysis_config import ConfigManager"
   ]
  },
  {
   "cell_type": "code",
   "execution_count": 3,
   "metadata": {},
   "outputs": [],
   "source": [
    "async def analyze_gene_batch(genes, mode='standard', types=['literature', 'clinical', 'commercial']):\n",
    "    \"\"\"批量分析基因 - 每个基因单独保存文件\"\"\"\n",
    "    # 获取配置\n",
    "    if mode == 'quick':\n",
    "        config = ConfigManager.get_quick_config()\n",
    "    elif mode == 'standard':\n",
    "        config = ConfigManager.get_standard_config()\n",
    "    else:\n",
    "        config = ConfigManager.get_deep_config()\n",
    "    \n",
    "    # 初始化专家（传入配置）\n",
    "    experts = {}\n",
    "    if 'literature' in types:\n",
    "        experts['literature'] = LiteratureExpert(config)\n",
    "    if 'clinical' in types:\n",
    "        experts['clinical'] = ClinicalExpert(config)\n",
    "    if 'commercial' in types:\n",
    "        experts['commercial'] = CommercialExpert(config)\n",
    "    \n",
    "    timestamp = datetime.now().strftime(\"%Y%m%d_%H%M%S\")\n",
    "    saved_files = []\n",
    "    \n",
    "    # 分析每个基因并单独保存\n",
    "    for i, gene in enumerate(genes, 1):\n",
    "        print(f\"\\n[{i}/{len(genes)}] 分析 {gene}\")\n",
    "        \n",
    "        # 保存单个基因的报告\n",
    "        filename = f\"{gene}_analysis_{timestamp}.md\"\n",
    "        with open(filename, 'w', encoding='utf-8') as f:\n",
    "            f.write(f\"# {gene} 基因分析报告\\n\\n\")\n",
    "            f.write(f\"生成时间: {datetime.now().strftime('%Y-%m-%d %H:%M:%S')}\\n\")\n",
    "            f.write(f\"分析模式: {mode}\\n\\n\")\n",
    "            \n",
    "            # 文献分析\n",
    "            if 'literature' in experts:\n",
    "                try:\n",
    "                    print(f\"  📚 文献分析中...\")\n",
    "                    result = await experts['literature'].analyze(gene)\n",
    "                    f.write(f\"## 文献分析\\n\")\n",
    "                    f.write(f\"- 分析文献数: {result.total_literature}\\n\")\n",
    "                    f.write(f\"- 文本块数: {result.total_chunks}\\n\")\n",
    "                    f.write(f\"- 置信度: {result.confidence_score:.2f}\\n\\n\")\n",
    "                    f.write(\"### 疾病机制\\n\" + result.disease_mechanism + \"\\n\\n\")\n",
    "                    f.write(\"### 治疗策略\\n\" + result.treatment_strategy + \"\\n\\n\")\n",
    "                    f.write(\"### 靶点分析\\n\" + result.target_analysis + \"\\n\\n\")\n",
    "                    print(f\"     ✓ {result.total_literature} 篇文献\")\n",
    "                except Exception as e:\n",
    "                    f.write(f\"## 文献分析\\n❌ 错误: {str(e)}\\n\\n\")\n",
    "                    print(f\"     ✗ 失败: {e}\")\n",
    "            \n",
    "\n",
    "        \n",
    "        saved_files.append(filename)\n",
    "        print(f\"  📄 已保存: {filename}\")\n",
    "    \n",
    "    print(f\"\\n✅ 完成! 共保存 {len(saved_files)} 个文件:\")\n",
    "    for f in saved_files:\n",
    "        print(f\"  • {f}\")\n",
    "    \n",
    "    return saved_files"
   ]
  },
  {
   "cell_type": "code",
   "execution_count": 4,
   "metadata": {},
   "outputs": [
    {
     "name": "stdout",
     "output_type": "stream",
     "text": [
      "\n",
      "[1/1] 分析 PNPLA3\n",
      "  📚 文献分析中...\n",
      "🏗️ 构建文献索引: PNPLA3 (gene)\n",
      "📚 检索文献: PNPLA3 (gene)\n",
      "   目标: 1000 篇\n",
      "  🔍 搜索策略: PNPLA3[Title/Abstract]\n",
      "    ✅ 新增 169 篇，累计 169 篇\n",
      "  🔍 搜索策略: \"PNPLA3\" AND (disease OR treatment OR therapy)\n",
      "    ✅ 新增 189 篇，累计 297 篇\n",
      "  🔍 搜索策略: PNPLA3 AND (clinical trial[Publication Type] OR clinical study[Publication Type])\n",
      "    ✅ 新增 41 篇，累计 335 篇\n",
      "  🔍 搜索策略: PNPLA3 AND (mechanism OR pathway OR function)\n",
      "    ✅ 新增 194 篇，累计 400 篇\n",
      "  🔍 搜索策略: PNPLA3 AND (drug OR inhibitor OR target OR therapeutic)\n",
      "    ✅ 新增 194 篇，累计 460 篇\n",
      "📊 检索完成: 共 460 篇文献\n",
      "📝 开始文本分块，块大小: 250\n",
      "✅ 分块完成: 460 篇 → 3878 块\n",
      "🔍 构建向量索引，模型: /public/home/chenziqing/agent_test/agent_core/agents/models--sentence-transformers--all-MiniLM-L6-v2/snapshots/c9745ed1d9f207416be6d2e6f8de32d1f16199bf\n",
      "  📊 编码 3878 个文本块...\n"
     ]
    },
    {
     "name": "stderr",
     "output_type": "stream",
     "text": [
      "Batches: 100%|██████████| 122/122 [00:13<00:00,  8.89it/s]\n"
     ]
    },
    {
     "name": "stdout",
     "output_type": "stream",
     "text": [
      "✅ 索引构建完成: 3878 块, 维度: 384\n",
      "💾 缓存已保存: decad06ce8592252293a9cc0d9c95c9a\n",
      "🤖 开始RAG查询...\n",
      "🤖 RAG查询: PNPLA3 - disease_mechanism\n",
      "  📊 检索到 300 个相关块\n",
      "🤖 RAG查询: PNPLA3 - treatment_strategy\n",
      "  📊 检索到 300 个相关块\n",
      "🤖 RAG查询: PNPLA3 - target_analysis\n",
      "  📊 检索到 300 个相关块\n",
      "     ✓ 460 篇文献\n",
      "  📄 已保存: PNPLA3_analysis_20250901_174839.md\n",
      "\n",
      "✅ 完成! 共保存 1 个文件:\n",
      "  • PNPLA3_analysis_20250901_174839.md\n"
     ]
    }
   ],
   "source": [
    "# 使用示例 - 分析你的基因列表\n",
    "my_genes = ['PNPLA3']\n",
    "\n",
    "# 运行分析（每个基因会保存为独立的md文件）\n",
    "saved_files = await analyze_gene_batch(\n",
    "    genes=my_genes,\n",
    "    mode='deep',  # 'quick'/'standard'/'deep'\n",
    "    types=['literature']  # 选择需要的分析\n",
    ")"
   ]
  },
  {
   "cell_type": "code",
   "execution_count": null,
   "metadata": {},
   "outputs": [],
   "source": []
  }
 ],
 "metadata": {
  "kernelspec": {
   "display_name": "agent_env",
   "language": "python",
   "name": "python3"
  },
  "language_info": {
   "codemirror_mode": {
    "name": "ipython",
    "version": 3
   },
   "file_extension": ".py",
   "mimetype": "text/x-python",
   "name": "python",
   "nbconvert_exporter": "python",
   "pygments_lexer": "ipython3",
   "version": "3.10.18"
  }
 },
 "nbformat": 4,
 "nbformat_minor": 4
}
